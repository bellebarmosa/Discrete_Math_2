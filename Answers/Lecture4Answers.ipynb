{
 "cells": [
  {
   "cell_type": "markdown",
   "metadata": {},
   "source": [
    "$\\textbf{Lecture 1 Answers}$ <br>\n",
    "by Belle Bridget Lastimosa"
   ]
  },
  {
   "cell_type": "markdown",
   "metadata": {},
   "source": [
    "$\\textbf{Pathfinding Algorithms}$\n",
    "\n",
    "1. Kruskal's Algorithm\n",
    "2. Prim's Algorithm\n",
    "3. Djitraka's Shortest Path Algorithm"
   ]
  },
  {
   "cell_type": "markdown",
   "metadata": {},
   "source": [
    "import matplotlib.pyplot as plt\n",
    "import networkx as nx\n",
    "seed = 55\n",
    "# Use seed for reproducibility\n",
    "G = nx.Graph()\n",
    "plt.figure(figsize=(10, 8))\n",
    "# Add nodes\n",
    "G.add_nodes_from([\"A\",\"B\",\"C\",\"D\",\"E\",\"F\",\"G\"])\n",
    "# Add self-loops to the remaining nodes\n",
    "edgelist = [(\"A\",\"C\"),(\"A\",\"I\"),(\"C\",\"B\"),(\"C\",\"E\"),(\"C\",\"D\"),(\"B\",\"E\"),(\"I\",\"E\"),(\"E\",\"F\"),(\"F\",\"G\"),(\"G\",\"E\")]\n",
    "G.add_edges_from(edgelist)\n",
    "pos = nx.planar_layout(G)  # Seed for reproducible layout\n",
    "nx.draw_networkx_edge_labels(\n",
    "    G, pos,\n",
    "    edge_labels={(\"A\",\"C\"):10,(\"A\",\"I\"):5,(\"C\",\"B\"):20,(\"C\",\"E\"):15,(\"C\",\"D\"):30,(\"B\",\"E\"):25,(\"I\",\"E\"):40,(\"E\",\"F\"):35,(\"F\",\"G\"):50,(\"G\",\"E\"):45},\n",
    "    font_color='red'\n",
    ")\n",
    "nx.draw(G, pos=pos,with_labels=True)\n",
    "nx.draw(\n",
    "    G, pos, edge_color='black', width=1, linewidths=1,\n",
    "    node_size=500, node_color='pink', alpha=0.9,\n",
    "    with_labels=True)\n",
    "\n",
    "plt.show()"
   ]
  }
 ],
 "metadata": {
  "language_info": {
   "name": "python"
  }
 },
 "nbformat": 4,
 "nbformat_minor": 2
}
